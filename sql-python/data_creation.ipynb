{
 "cells": [
  {
   "cell_type": "code",
   "execution_count": 1,
   "id": "96ea0759",
   "metadata": {},
   "outputs": [
    {
     "name": "stdout",
     "output_type": "stream",
     "text": [
      " Datasets saved successfully!\n"
     ]
    }
   ],
   "source": [
    "import pandas as pd\n",
    "import numpy as np\n",
    "\n",
    "# Set random seed for reproducibility\n",
    "np.random.seed(42)\n",
    "\n",
    "# Number of orders\n",
    "num_orders = 100  \n",
    "\n",
    "# Generate synthetic Orders data\n",
    "order_ids = [f\"O{1000 + i}\" for i in range(num_orders)]\n",
    "customer_ids = np.random.randint(2000, 3000, size=num_orders)\n",
    "order_dates = pd.date_range(start=\"2024-01-01\", periods=num_orders, freq=\"D\")\n",
    "total_amounts = np.round(np.random.uniform(50, 500, size=num_orders), 2)\n",
    "countries = np.random.choice([\"USA\", \"UK\", \"Germany\", \"France\", \"Netherlands\"], num_orders)\n",
    "\n",
    "orders_df = pd.DataFrame({\n",
    "    \"OrderID\": order_ids,\n",
    "    \"CustomerID\": customer_ids,\n",
    "    \"OrderDate\": order_dates,\n",
    "    \"TotalAmount\": total_amounts,\n",
    "    \"Country\": countries\n",
    "})\n",
    "\n",
    "# Generate synthetic Payments data (Some orders are missing payments)\n",
    "payment_methods = [\"Credit Card\", \"PayPal\", \"Bank Transfer\"]\n",
    "payment_prob = np.random.choice([True, False], size=num_orders, p=[0.85, 0.15])  # 15% missing payments\n",
    "\n",
    "payments_df = orders_df[payment_prob].copy()  # Select only orders that received payments\n",
    "payments_df[\"PaymentID\"] = range(5000, 5000 + len(payments_df))\n",
    "payments_df[\"PaymentDate\"] = payments_df[\"OrderDate\"] + pd.to_timedelta(np.random.randint(1, 5, size=len(payments_df)), unit=\"D\")\n",
    "payments_df[\"PaymentMethod\"] = np.random.choice(payment_methods, size=len(payments_df))\n",
    "\n",
    "# Generate synthetic Invoices data (Some invoices are unpaid or partially paid)\n",
    "invoice_statuses = [\"Paid\", \"Unpaid\", \"Partially Paid\"]\n",
    "invoice_probs = [0.75, 0.15, 0.10]  # 75% Paid, 15% Unpaid, 10% Partially Paid\n",
    "\n",
    "invoices_df = orders_df.copy()\n",
    "invoices_df[\"InvoiceID\"] = range(8000, 8000 + len(invoices_df))\n",
    "invoices_df[\"InvoiceDate\"] = invoices_df[\"OrderDate\"] + pd.to_timedelta(np.random.randint(0, 3, size=len(invoices_df)), unit=\"D\")\n",
    "invoices_df[\"Status\"] = np.random.choice(invoice_statuses, size=len(invoices_df), p=invoice_probs)\n",
    "\n",
    "# Save datasets locally\n",
    "orders_file = \"C:/Users/manos/OneDrive/Desktop/simulated_orders.csv\"\n",
    "payments_file = \"C:/Users/manos/OneDrive/Desktop/simulated_payments.csv\"\n",
    "invoices_file = \"C:/Users/manos/OneDrive/Desktop/simulated_invoices.csv\"\n",
    "\n",
    "orders_df.to_csv(orders_file, index=False)\n",
    "payments_df.to_csv(payments_file, index=False)\n",
    "invoices_df.to_csv(invoices_file, index=False)\n",
    "\n",
    "print(\" Datasets saved successfully!\")"
   ]
  },
  {
   "cell_type": "code",
   "execution_count": null,
   "id": "2d9c6cdc",
   "metadata": {},
   "outputs": [],
   "source": []
  }
 ],
 "metadata": {
  "kernelspec": {
   "display_name": "Python 3 (ipykernel)",
   "language": "python",
   "name": "python3"
  },
  "language_info": {
   "codemirror_mode": {
    "name": "ipython",
    "version": 3
   },
   "file_extension": ".py",
   "mimetype": "text/x-python",
   "name": "python",
   "nbconvert_exporter": "python",
   "pygments_lexer": "ipython3",
   "version": "3.11.4"
  }
 },
 "nbformat": 4,
 "nbformat_minor": 5
}
